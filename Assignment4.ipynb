{
 "cells": [
  {
   "cell_type": "markdown",
   "metadata": {},
   "source": [
    "#Assignment 4"
   ]
  },
  {
   "cell_type": "code",
   "execution_count": 4,
   "metadata": {
    "collapsed": false
   },
   "outputs": [
    {
     "name": "stdout",
     "output_type": "stream",
     "text": [
      "C:\\Users\\PC\n"
     ]
    }
   ],
   "source": [
    "import os\n",
    "\n",
    "print os.getcwd()"
   ]
  },
  {
   "cell_type": "markdown",
   "metadata": {},
   "source": [
    "1. 파일 s.txt 내의 다음 내용과 함게 아래 문제의 코드를 제시하시오.\n",
    "   - pig ham\n",
    "   - cat dog\n",
    "   - ham bird\n",
    "   - dog pig"
   ]
  },
  {
   "cell_type": "markdown",
   "metadata": {},
   "source": [
    "    1) 파일 s.txt을 읽어서 각 라인에 있는 첫 번째 단어(문자열) 자체들을 지준으로 라인별 정렬후 파일 s1.txt에 그 결과를 기록하는 코드를 작성하시오. 즉, 프로그램 수행 후 s1.txt에 있는 파일 내용은 다음과 같다.\n",
    "      - cat dog\n",
    "      - dog pig\n",
    "      - ham bird\n",
    "      - pig ham"
   ]
  },
  {
   "cell_type": "code",
   "execution_count": 22,
   "metadata": {
    "collapsed": false
   },
   "outputs": [
    {
     "name": "stdout",
     "output_type": "stream",
     "text": [
      "cat dog\n",
      "dog pig\n",
      "ham bird\n",
      "pig ham\n"
     ]
    }
   ],
   "source": [
    "word = sorted(open('s.txt').read().splitlines())\n",
    "\n",
    "print ('\\n'.join(word))\n"
   ]
  },
  {
   "cell_type": "markdown",
   "metadata": {},
   "source": [
    "    2) 파일 s.txt을 읽어서 각 라인에 있는 두 번째 단어(문자열) 자체들을 기준으로 라이변 정렬후 파일 s2.txt에 그 결과를 기록하는 코드를 작성하시오. 즉, 프로그램 수행 후 s2.txt에 있는 파일 내용은 다음과 같다.\n",
    "     - ham bird\n",
    "     - cat dog\n",
    "     - pig ham\n",
    "     - dog pig"
   ]
  },
  {
   "cell_type": "code",
   "execution_count": 23,
   "metadata": {
    "collapsed": false
   },
   "outputs": [
    {
     "name": "stdout",
     "output_type": "stream",
     "text": [
      "ham bird\n",
      "cat dog\n",
      "pig ham\n",
      "dog pig\n"
     ]
    }
   ],
   "source": [
    "word = sorted(open('s.txt').read().splitlines(), key=lambda a:a.split()[1])\n",
    "\n",
    "print ('\\n'.join(word))"
   ]
  },
  {
   "cell_type": "markdown",
   "metadata": {},
   "source": [
    "    3) 파일 s.txt을 읽어서 각 라인에 있는 모든 단오들을 순차적으로 다시 나열하되 각 라인에 세 개의 단어들이 오도록 하여 s3.txt에 기록하는 코드를 작성하시오. 즉, 프로그램 수행 후 s3.txt에 있는 파일 내용은 다음과 같다.\n",
    "    - pig ham cat\n",
    "    - dog ham bird\n",
    "    - dog pig"
   ]
  },
  {
   "cell_type": "code",
   "execution_count": 24,
   "metadata": {
    "collapsed": false
   },
   "outputs": [
    {
     "name": "stdout",
     "output_type": "stream",
     "text": [
      "pig ham cat\n",
      "dog ham bird\n",
      "dog pig\n"
     ]
    }
   ],
   "source": [
    "s3 = open('s.txt').read().split()\n",
    "\n",
    "for k in range(0, len(s3), 3):\n",
    "    print (' '.join(s3[k:k+3]))\n"
   ]
  },
  {
   "cell_type": "markdown",
   "metadata": {},
   "source": [
    "2. 다음과 같은 조건들을 참고하여 회원 가입 및 로그인 프로그램을 작성하시오"
   ]
  },
  {
   "cell_type": "markdown",
   "metadata": {},
   "source": [
    "    1) 프로그램 시작 후 다음과 같은 메세지가 출력되어 1, 2,3 중 하나의 값을 입력 받도록 한다.\n",
    "        Welcome to Our Service\n",
    "        1. Sign Up\n",
    "        2. Sign In\n",
    "        3. Quit"
   ]
  },
  {
   "cell_type": "markdown",
   "metadata": {},
   "source": [
    "    2) 1을 선택하면 ID, Password, Name, School의 4 가지 정보를 입력받아 파일에 저장하는 프로그램을 작성한다.\n",
    "    2-1) 입력된 내용은 access.txt라는 이름의 텍스트 파일 내에 저장된다.\n",
    "    \n",
    "    2-2) access.txt파일의 각 라인에는 가입된 회원 각각의 정보가 \"[id]: [password], [name], [school]\" 형태로 저장된다.\n",
    "    \n",
    "    2-3) 즉, 가입 회원이 10명이면 access.txt 파일 내에 라인 수도 정확히 10개이다.\n",
    "    \n",
    "    2-4) 암호화 방식은 sha 모듈을 활용한다. sha 모듈 활용 방법은 본 문제의 마지막에 제시된 sha 활용 예를 참고한다.\n",
    "    - 즉, access.txt 파일 내에 password 정보는 암호화 되어 저장되어야 한다.\n",
    "    \n",
    "    2-5) 회원 정보를 입력 받을 때 id를 입력 받은 직후 access.txt를 확인하여 이미 존재하는 id가 입력되었다면 다음 메시지를 출력하고 id 정보를 다시 입력받는다.\n",
    "    -  Sorry, the entered ID is already used.\n"
   ]
  },
  {
   "cell_type": "markdown",
   "metadata": {},
   "source": [
    "    3) 2를 선택하면 ID, Password의 2가지 정보를 입력받는 프로그램을 작성한다.\n",
    "    3-1) 입력된 ID 정보가 access.txt에 존재하지 않으면 다음과 같은 메시지를 출력하고 다시 입력받는다.\n",
    "    - Sorry, you are not a registered member.\n",
    "    \n",
    "    3-2) 입력된 ID가 올바르게 존재하지만 Password 정보가 access.txt 파일에 있는 정보와 불일치하면 다음과 같은 메시지를 출력하고 Password를 다시 입력받는다.\n",
    "    - Sorry, the entered password is not correct.\n",
    "    - 이 때에도 사용자가 입력한 Password 정보와 함께 sha 모듈이 활용되어야 한다.\n",
    "    \n",
    "    3-3) 입력된 ID와 Password가 모두 올바르면 다음과 같은 메시지를 출력한다.\n",
    "    - Hello [name]!\n",
    "    - 위 [name]에는 access.txt에 기록되어 있는 name 정보를 출력한다."
   ]
  },
  {
   "cell_type": "code",
   "execution_count": 25,
   "metadata": {
    "collapsed": false
   },
   "outputs": [
    {
     "name": "stdout",
     "output_type": "stream",
     "text": [
      "f64e382ba76a546b48d8e3b924ef1592fdc11487\n",
      "8110f37f50b476befe868569bdea100ab905ac799a8d0dc9dbe16f36\n",
      "ae412262cb869bbda7084e6c76097bee\n"
     ]
    }
   ],
   "source": [
    "import sha\n",
    "password = 'my pass word'\n",
    "encrypted = sha.new(password).hexdigest()\n",
    "encrypted\n",
    "\n",
    "print (encrypted1)\n",
    "print (encrypted2)\n",
    "print (encrypted3)\n",
    "\n",
    " \n",
    "##################\n",
    "def savePassword(sid, passwd):\n",
    "    encrypted = hashlib.sha1(passwd.encode()).hexdigest()\n",
    "    f = open('access.txt', 'a')\n",
    "    f.write('{}:{}\\n'.format(sid, encrypted))\n",
    "\n",
    "    \n",
    "savePassword('jinsol', '123')"
   ]
  },
  {
   "cell_type": "code",
   "execution_count": 28,
   "metadata": {
    "collapsed": false
   },
   "outputs": [
    {
     "name": "stdout",
     "output_type": "stream",
     "text": [
      "Enter the user id : 123\n",
      "Sorry, you are not a registered member.\n"
     ]
    }
   ],
   "source": [
    "user={}\n",
    "\n",
    "for line in open('user.txt'):\n",
    "    line=line.replace('\\n','')\n",
    "    rid, pw = line.split(':')\n",
    "    user[rid]=pw\n",
    "        \n",
    "rid=raw_input('Enter the user id : ')\n",
    "\n",
    "if rid in user: \n",
    "    print 'You are a registered member.'\n",
    "    pw=raw_input('Enter the password : ')\n",
    "    encoded_pw=hashlib.md5(pw).hexdigest()\n",
    "        \n",
    "    if user[rid]==encoded_pw:\n",
    "        print 'login success...'\n",
    "            \n",
    "    else:\n",
    "        print 'wrong password. Check it!!'\n",
    "            \n",
    "else: \n",
    "    print 'Sorry, you are not a registered member.' "
   ]
  },
  {
   "cell_type": "markdown",
   "metadata": {},
   "source": [
    "4) 3을 선택하면 프로그램이 끝난다."
   ]
  },
  {
   "cell_type": "markdown",
   "metadata": {},
   "source": [
    "3. range() 함수와 유사한 frange() 함수를 다음 조건을 참고하여 만드시오."
   ]
  },
  {
   "cell_type": "markdown",
   "metadata": {},
   "source": [
    "    1) frange()의 인자 구성은 다음과 같이 range와 동일하지만 각 인수들은 음수를 받지 않는다고 가정한다.\n",
    "    - range(stop)\n",
    "    - range(start,stop[, step])"
   ]
  },
  {
   "cell_type": "markdown",
   "metadata": {},
   "source": [
    "    2) frange() 함수의 인자에 대한 기본 시작(start) 값은 0.0이고, 기본 단계(step) 값은 0.1이다."
   ]
  },
  {
   "cell_type": "markdown",
   "metadata": {},
   "source": [
    "    3) frange 사용 예\n",
    "    3-1) frange(0.5)\n",
    "    - [0.0, 0.1, 0.2, 0.3, 0.4]\n",
    "    3-2) frange(1.0, 2.0)\n",
    "    - [1.0, 1.1, 1.2, 1.3, 1.4, 1.5, 1.6, 1.7, 1.8, 1.9]\n",
    "    3-3) frange(2.2, 4.0, 0.5)\n",
    "    - [2.2, 2.7, 3.2, 3.7]"
   ]
  },
  {
   "cell_type": "code",
   "execution_count": 25,
   "metadata": {
    "collapsed": false
   },
   "outputs": [
    {
     "name": "stdout",
     "output_type": "stream",
     "text": [
      "[0.0, 0.1, 0.2, 0.30000000000000004, 0.4, 0.5, 0.6, 0.7, 0.7999999999999999, 0.8999999999999999, 0.9999999999999999, 1.0999999999999999, 1.2, 1.3, 1.4000000000000001, 1.5000000000000002, 1.6000000000000003, 1.7000000000000004, 1.8000000000000005, 1.9000000000000006]\n",
      "[1.0, 1.1, 1.2000000000000002, 1.3000000000000003, 1.4000000000000004, 1.5000000000000004, 1.6000000000000005, 1.7000000000000006, 1.8000000000000007, 1.9000000000000008]\n",
      "[1.0, 1.5, 2.0, 2.5]\n"
     ]
    }
   ],
   "source": [
    "def frange(num, basic=0.0, step=0.1):\n",
    "    listA = []\n",
    "\n",
    "    if num < basic:\n",
    "        start=num\n",
    "        stop=basic\n",
    "        \n",
    "    else:\n",
    "        start = basic\n",
    "        stop = num\n",
    "\n",
    "    while start < stop:\n",
    "        listA.append(start)\n",
    "        start+=step\n",
    "\n",
    "    return listA\n",
    "\n",
    "\n",
    "if __name__=='__main__':\n",
    "    print frange(2)\n",
    "    print frange(1.0, 2.0)\n",
    "    print frange(1.0, 3.0, 0.5)"
   ]
  },
  {
   "cell_type": "markdown",
   "metadata": {},
   "source": [
    "4. 가변인수를 받는 함수 sum()을 다음과 같은 조건을 참고하여 구현하시오\n",
    "    - sum() 사용 예\n",
    "        - sum() -> 0\n",
    "        - sum(1, 2) -> 3\n",
    "        - sum(1, 2, 3, 4, 5) -> 15\n",
    "        - sum(1, 5, 7, 2, -10) -> 5"
   ]
  },
  {
   "cell_type": "code",
   "execution_count": 28,
   "metadata": {
    "collapsed": false
   },
   "outputs": [
    {
     "name": "stdout",
     "output_type": "stream",
     "text": [
      "0\n",
      "3\n",
      "15\n",
      "5\n"
     ]
    }
   ],
   "source": [
    "def sum(*args):\n",
    "    a = 0\n",
    "    \n",
    "    for num in args:\n",
    "        a += num\n",
    "        \n",
    "    return a\n",
    "\n",
    "print sum()\n",
    "print sum(1, 2)\n",
    "print sum(1, 2, 3, 4, 5)\n",
    "print sum(1, 5, 7, 2, -10)"
   ]
  },
  {
   "cell_type": "markdown",
   "metadata": {},
   "source": [
    "5. 여러 단어로 이루어진 문자열을 입력받아 각 단어의 첫 글자로 이루어진 단어를 대문자로 출력하는 myinitial() 함수를 다음 조건을 참고하여 작성하시오."
   ]
  },
  {
   "cell_type": "markdown",
   "metadata": {},
   "source": [
    "    1) 다음에 제시된ㄴ 함수들을 모두 이용해야 한다.\n",
    "    - split\n",
    "    -map\n",
    "    - join\n",
    "    2) myinitial()함수 사용 예\n",
    "    - myinitial(\"as soon as possible\") -> ASAP"
   ]
  },
  {
   "cell_type": "code",
   "execution_count": 3,
   "metadata": {
    "collapsed": false
   },
   "outputs": [
    {
     "name": "stdout",
     "output_type": "stream",
     "text": [
      "asap\n"
     ]
    }
   ],
   "source": [
    "def myinitial(string):\n",
    "    List = map(lambda x : x[0], string.split())\n",
    "    return ''.join(List)\n",
    "\n",
    "if __name__ == '__main__':\n",
    "    print myinitial('as soon as possible')"
   ]
  },
  {
   "cell_type": "markdown",
   "metadata": {},
   "source": [
    "6. 음이 아닌 정수 n을 입력받으면 n!(factorial)을 계산하는 myfact()함수를 재귀적 함수로 구현하시오.\n",
    "    - [옵션] 참을 수 있는 정도 만큼의 수행시간을 직접 기다려보면서 n을 늘려보도록 합시다."
   ]
  },
  {
   "cell_type": "code",
   "execution_count": 38,
   "metadata": {
    "collapsed": false
   },
   "outputs": [
    {
     "name": "stdout",
     "output_type": "stream",
     "text": [
      "6\n"
     ]
    }
   ],
   "source": [
    "def myfact(num):\n",
    "    if(num == 1):\n",
    "        return 1\n",
    "    return num * myfact(num-1)\n",
    "\n",
    "if __name__ == '__main__':\n",
    "    print myfact(3)"
   ]
  },
  {
   "cell_type": "markdown",
   "metadata": {},
   "source": [
    "7. (서술형) import string과 from string import*의 차이점을 설명하시오."
   ]
  },
  {
   "cell_type": "markdown",
   "metadata": {},
   "source": [
    "- import string : string이라는 모듈을 불러온다.\n",
    "- from string import* : string에 존재하는 '__'로 시작되는 이름들을 제외한 모든 이름들을 현재 이름 공간으로 불러들인다."
   ]
  },
  {
   "cell_type": "markdown",
   "metadata": {},
   "source": [
    "8. [프로젝트 오일러 10]이백만 이하 소수의 합"
   ]
  },
  {
   "cell_type": "code",
   "execution_count": 15,
   "metadata": {
    "collapsed": false
   },
   "outputs": [
    {
     "name": "stdout",
     "output_type": "stream",
     "text": [
      "41\n"
     ]
    }
   ],
   "source": [
    "a = [2]\n",
    "num = 3\n",
    "\n",
    "while num<=15:\n",
    "\n",
    "  c=0\n",
    "\n",
    "  for i in a:\n",
    "    if num%i == 0:\n",
    "        c=1\n",
    "        break\n",
    "\n",
    "    if i*2 > num:\n",
    "        break\n",
    "\n",
    "  if c == 0: \n",
    "    a += [num]\n",
    "  num += 2\n",
    "\n",
    "print sum(a)"
   ]
  },
  {
   "cell_type": "markdown",
   "metadata": {},
   "source": [
    "저번에 수업시간에 교수님께서 숫자 2000000대신 다른 작은 숫자로 바꿔도 된다고 하셔서, 15까지의 소수의 합을 출력하였습니다."
   ]
  },
  {
   "cell_type": "markdown",
   "metadata": {},
   "source": [
    "8. [프로젝트 오일러 11] 20 x 20 격자에서 연속된 네 숫자의 곱 중 최대값"
   ]
  },
  {
   "cell_type": "code",
   "execution_count": 16,
   "metadata": {
    "collapsed": false
   },
   "outputs": [
    {
     "name": "stdout",
     "output_type": "stream",
     "text": [
      "70600674\n"
     ]
    }
   ],
   "source": [
    "m=\"\"\"08 02 22 97 38 15 00 40 00 75 04 05 07 78 52 12 50 77 91 08\n",
    "49 49 99 40 17 81 18 57 60 87 17 40 98 43 69 48 04 56 62 00\n",
    "81 49 31 73 55 79 14 29 93 71 40 67 53 88 30 03 49 13 36 65\n",
    "52 70 95 23 04 60 11 42 69 24 68 56 01 32 56 71 37 02 36 91\n",
    "22 31 16 71 51 67 63 89 41 92 36 54 22 40 40 28 66 33 13 80\n",
    "24 47 32 60 99 03 45 02 44 75 33 53 78 36 84 20 35 17 12 50\n",
    "32 98 81 28 64 23 67 10 26 38 40 67 59 54 70 66 18 38 64 70\n",
    "67 26 20 68 02 62 12 20 95 63 94 39 63 08 40 91 66 49 94 21\n",
    "24 55 58 05 66 73 99 26 97 17 78 78 96 83 14 88 34 89 63 72\n",
    "21 36 23 09 75 00 76 44 20 45 35 14 00 61 33 97 34 31 33 95\n",
    "78 17 53 28 22 75 31 67 15 94 03 80 04 62 16 14 09 53 56 92\n",
    "16 39 05 42 96 35 31 47 55 58 88 24 00 17 54 24 36 29 85 57\n",
    "86 56 00 48 35 71 89 07 05 44 44 37 44 60 21 58 51 54 17 58\n",
    "19 80 81 68 05 94 47 69 28 73 92 13 86 52 17 77 04 89 55 40\n",
    "04 52 08 83 97 35 99 16 07 97 57 32 16 26 26 79 33 27 98 66\n",
    "88 36 68 87 57 62 20 72 03 46 33 67 46 55 12 32 63 93 53 69\n",
    "04 42 16 73 38 25 39 11 24 94 72 18 08 46 29 32 40 62 76 36\n",
    "20 69 36 41 72 30 23 88 34 62 99 69 82 67 59 85 74 04 36 16\n",
    "20 73 35 29 78 31 90 01 74 31 49 71 48 86 81 16 23 57 05 54\n",
    "01 70 54 71 83 51 54 69 16 92 33 48 61 43 52 01 89 19 67 48\"\"\"\n",
    "\n",
    "m =[map(int, l.split()) for l in m.split('\\n')]\n",
    "\n",
    "a=max(m[i][j]*m[i][j+1]*m[i][j+2]*m[i][j+3] for i in range(20) for j in range(17))\n",
    "b=max(m[i][j]*m[i+1][j]*m[i+2][j]*m[i+3][j] for i in range(17) for j in range(20))\n",
    "c=max(m[i][j]*m[i+1][j+1]*m[i+2][j+2]*m[i+3][j+3] for i in range(17) for j in range(17))\n",
    "d=max(m[i+3][j]*m[i+2][j+1]*m[i+1][j+2]*m[i][j+3] for i in range(17) for j in range(17))\n",
    "\n",
    "print max(a,b,c,d)"
   ]
  },
  {
   "cell_type": "markdown",
   "metadata": {},
   "source": [
    "가로, 세로, 대각선 곱해서 MAX값을 구하도록 했습니다."
   ]
  },
  {
   "cell_type": "markdown",
   "metadata": {},
   "source": [
    "8. [프로젝트 오일러 12] 500개 이상의 약수를 갖는 가장 작은 삼각수?"
   ]
  },
  {
   "cell_type": "code",
   "execution_count": 17,
   "metadata": {
    "collapsed": false
   },
   "outputs": [
    {
     "name": "stdout",
     "output_type": "stream",
     "text": [
      "76576500\n"
     ]
    }
   ],
   "source": [
    "import time\n",
    " \n",
    "def num_divisors(n):\n",
    "    if n % 2 == 0: n = n/2\n",
    "    divisors = 1\n",
    "    count = 0\n",
    "    while n % 2 == 0:\n",
    "        count += 1\n",
    "        n = n/2\n",
    "    divisors = divisors * (count + 1)\n",
    "    p = 3\n",
    "    while n != 1:\n",
    "        count = 0\n",
    "        while n % p == 0:\n",
    "            count += 1\n",
    "            n = n/p\n",
    "        divisors = divisors * (count + 1)\n",
    "        p += 2\n",
    "    return divisors\n",
    " \n",
    "def find_triangular_index(factor_limit):\n",
    "    n = 1\n",
    "    lnum, rnum = num_divisors(n), num_divisors(n+1)\n",
    "    while lnum * rnum < 500:\n",
    "        n += 1\n",
    "        lnum, rnum = rnum, num_divisors(n+1)\n",
    "    return n\n",
    "\n",
    "index = find_triangular_index(500)\n",
    "triangle = (index * (index + 1)) / 2\n",
    "\n",
    "print triangle"
   ]
  },
  {
   "cell_type": "markdown",
   "metadata": {},
   "source": [
    "8. [프로젝트 오일러 13] 50자리 숫자 100개를 더한 값의 첫 10자리 구하기"
   ]
  },
  {
   "cell_type": "code",
   "execution_count": 23,
   "metadata": {
    "collapsed": false
   },
   "outputs": [
    {
     "name": "stdout",
     "output_type": "stream",
     "text": [
      "5537376230\n"
     ]
    }
   ],
   "source": [
    "src=\"\"\"\n",
    "37107287533902102798797998220837590246510135740250\n",
    "46376937677490009712648124896970078050417018260538\n",
    "74324986199524741059474233309513058123726617309629\n",
    "91942213363574161572522430563301811072406154908250\n",
    "23067588207539346171171980310421047513778063246676\n",
    "89261670696623633820136378418383684178734361726757\n",
    "28112879812849979408065481931592621691275889832738\n",
    "44274228917432520321923589422876796487670272189318\n",
    "47451445736001306439091167216856844588711603153276\n",
    "70386486105843025439939619828917593665686757934951\n",
    "62176457141856560629502157223196586755079324193331\n",
    "64906352462741904929101432445813822663347944758178\n",
    "92575867718337217661963751590579239728245598838407\n",
    "58203565325359399008402633568948830189458628227828\n",
    "80181199384826282014278194139940567587151170094390\n",
    "35398664372827112653829987240784473053190104293586\n",
    "86515506006295864861532075273371959191420517255829\n",
    "71693888707715466499115593487603532921714970056938\n",
    "54370070576826684624621495650076471787294438377604\n",
    "53282654108756828443191190634694037855217779295145\n",
    "36123272525000296071075082563815656710885258350721\n",
    "45876576172410976447339110607218265236877223636045\n",
    "17423706905851860660448207621209813287860733969412\n",
    "81142660418086830619328460811191061556940512689692\n",
    "51934325451728388641918047049293215058642563049483\n",
    "62467221648435076201727918039944693004732956340691\n",
    "15732444386908125794514089057706229429197107928209\n",
    "55037687525678773091862540744969844508330393682126\n",
    "18336384825330154686196124348767681297534375946515\n",
    "80386287592878490201521685554828717201219257766954\n",
    "78182833757993103614740356856449095527097864797581\n",
    "16726320100436897842553539920931837441497806860984\n",
    "48403098129077791799088218795327364475675590848030\n",
    "87086987551392711854517078544161852424320693150332\n",
    "59959406895756536782107074926966537676326235447210\n",
    "69793950679652694742597709739166693763042633987085\n",
    "41052684708299085211399427365734116182760315001271\n",
    "65378607361501080857009149939512557028198746004375\n",
    "35829035317434717326932123578154982629742552737307\n",
    "94953759765105305946966067683156574377167401875275\n",
    "88902802571733229619176668713819931811048770190271\n",
    "25267680276078003013678680992525463401061632866526\n",
    "36270218540497705585629946580636237993140746255962\n",
    "24074486908231174977792365466257246923322810917141\n",
    "91430288197103288597806669760892938638285025333403\n",
    "34413065578016127815921815005561868836468420090470\n",
    "23053081172816430487623791969842487255036638784583\n",
    "11487696932154902810424020138335124462181441773470\n",
    "63783299490636259666498587618221225225512486764533\n",
    "67720186971698544312419572409913959008952310058822\n",
    "95548255300263520781532296796249481641953868218774\n",
    "76085327132285723110424803456124867697064507995236\n",
    "37774242535411291684276865538926205024910326572967\n",
    "23701913275725675285653248258265463092207058596522\n",
    "29798860272258331913126375147341994889534765745501\n",
    "18495701454879288984856827726077713721403798879715\n",
    "38298203783031473527721580348144513491373226651381\n",
    "34829543829199918180278916522431027392251122869539\n",
    "40957953066405232632538044100059654939159879593635\n",
    "29746152185502371307642255121183693803580388584903\n",
    "41698116222072977186158236678424689157993532961922\n",
    "62467957194401269043877107275048102390895523597457\n",
    "23189706772547915061505504953922979530901129967519\n",
    "86188088225875314529584099251203829009407770775672\n",
    "11306739708304724483816533873502340845647058077308\n",
    "82959174767140363198008187129011875491310547126581\n",
    "97623331044818386269515456334926366572897563400500\n",
    "42846280183517070527831839425882145521227251250327\n",
    "55121603546981200581762165212827652751691296897789\n",
    "32238195734329339946437501907836945765883352399886\n",
    "75506164965184775180738168837861091527357929701337\n",
    "62177842752192623401942399639168044983993173312731\n",
    "32924185707147349566916674687634660915035914677504\n",
    "99518671430235219628894890102423325116913619626622\n",
    "73267460800591547471830798392868535206946944540724\n",
    "76841822524674417161514036427982273348055556214818\n",
    "97142617910342598647204516893989422179826088076852\n",
    "87783646182799346313767754307809363333018982642090\n",
    "10848802521674670883215120185883543223812876952786\n",
    "71329612474782464538636993009049310363619763878039\n",
    "62184073572399794223406235393808339651327408011116\n",
    "66627891981488087797941876876144230030984490851411\n",
    "60661826293682836764744779239180335110989069790714\n",
    "85786944089552990653640447425576083659976645795096\n",
    "66024396409905389607120198219976047599490197230297\n",
    "64913982680032973156037120041377903785566085089252\n",
    "16730939319872750275468906903707539413042652315011\n",
    "94809377245048795150954100921645863754710598436791\n",
    "78639167021187492431995700641917969777599028300699\n",
    "15368713711936614952811305876380278410754449733078\n",
    "40789923115535562561142322423255033685442488917353\n",
    "44889911501440648020369068063960672322193204149535\n",
    "41503128880339536053299340368006977710650566631954\n",
    "81234880673210146739058568557934581403627822703280\n",
    "82616570773948327592232845941706525094512325230608\n",
    "22918802058777319719839450180888072429661980811197\n",
    "77158542502016545090413245809786882778948721859617\n",
    "72107838435069186155435662884062257473692284509516\n",
    "20849603980134001723930671666823555245252804609722\n",
    "53503534226472524250874054075591789781264330331690\n",
    "\"\"\"\n",
    "\n",
    "print(str(sum(map(int, src.split())))[0:10])"
   ]
  },
  {
   "cell_type": "markdown",
   "metadata": {},
   "source": [
    "8. [프로젝트 오일러 14] 백만 이하로 시작하는 우박수 중 가장 긴 과정을 거치는 것은?"
   ]
  },
  {
   "cell_type": "code",
   "execution_count": 18,
   "metadata": {
    "collapsed": false
   },
   "outputs": [
    {
     "name": "stdout",
     "output_type": "stream",
     "text": [
      "837799\n"
     ]
    }
   ],
   "source": [
    "def Conjecture(n):\n",
    "    i = 1\n",
    "    while True:\n",
    "        i+=1\n",
    "        if(n % 2 == 0):\n",
    "            n = n / 2\n",
    "        else:\n",
    "            n = 3 * n + 1 \n",
    "        if(n == 1):\n",
    "            break\n",
    "    return i\n",
    "  \n",
    "maxC = 0\n",
    "maxN = 0\n",
    "count = 1\n",
    "while True:\n",
    "    \n",
    "    c = Conjecture(count)    \n",
    "    if(c > maxC):\n",
    "        maxC = c\n",
    "        maxN = count\n",
    "        \n",
    "    count=count+2\n",
    "    \n",
    "    if(count > 1000000):\n",
    "        break\n",
    "        \n",
    "print maxN"
   ]
  },
  {
   "cell_type": "markdown",
   "metadata": {},
   "source": [
    "시간이 쫌 많이 오래 걸립니다.... 쪼금만 기다려 주세요"
   ]
  },
  {
   "cell_type": "markdown",
   "metadata": {},
   "source": [
    "8. [프로젝트 오일러 15] 20 x 20 격자의 좌상단에서 우하단으로 가는 경로의 수"
   ]
  },
  {
   "cell_type": "code",
   "execution_count": 22,
   "metadata": {
    "collapsed": false
   },
   "outputs": [
    {
     "name": "stdout",
     "output_type": "stream",
     "text": [
      "137846528820\n"
     ]
    }
   ],
   "source": [
    "def Find(n,r):\n",
    "    num = 1\n",
    "    for i in range(n-r+1,n+1):\n",
    "        num *= i\n",
    "        \n",
    "    for i in range(1, r+1):\n",
    "        num /= i\n",
    "    return num\n",
    "\n",
    "print Find(40,20)"
   ]
  },
  {
   "cell_type": "markdown",
   "metadata": {},
   "source": [
    "#14"
   ]
  },
  {
   "cell_type": "markdown",
   "metadata": {},
   "source": [
    "이전 Assignment 3의 마지막 문제는 웹 URL로 지정된 웹페이지를 문자열로 가져와 모든 HTML 태그 및 CSS와 Javascript를 제외한 순수 텍스트를 얻어내고 그 안에 존재하는 단어를 추출하여 각 단어들에 대해 출현빈도를 사전형태({'world': 2, 'hello': 1, 'python': 1})로 저장하여 출력하는 것이었다. 이번에는 Assignment 3를 확장하여 다음과 같은 조건을 만족하도록 구현하시오."
   ]
  },
  {
   "cell_type": "markdown",
   "metadata": {},
   "source": [
    "    1) 다음 사이트에서 제시되는 영어 불용어를 참고하여 이전 숙제에서 구성했던 단어 사전에서 영어 불용어들을 모두 제거하는 코드를 추가하시오."
   ]
  },
  {
   "cell_type": "code",
   "execution_count": 14,
   "metadata": {
    "collapsed": false
   },
   "outputs": [
    {
     "name": "stdout",
     "output_type": "stream",
     "text": [
      "<type 'str'>\n"
     ]
    }
   ],
   "source": [
    "import urllib2\n",
    "\n",
    "import string\n",
    "\n",
    " \n",
    "\n",
    "source = urllib2.urlopen(\"http://www.egloos.com/\").read()\n",
    "#print type(source)\n",
    "\n",
    "\n",
    "for i in range(0, source.count('<!--')):\n",
    "\n",
    "    if source.find(\"<!--\") != -1:\n",
    "\n",
    "        source = source.replace(source[source.find(\"<!--\"):source.find(\"-->\")+3:],\"\")\n",
    "\n",
    "#print source\n",
    "\n",
    " \n",
    "\n",
    "for i in range(0,source.count(\"<\")):\n",
    "\n",
    "    if source.find(\"<\") != -1:\n",
    "\n",
    "        source = source.replace(source[source.find(\"<\"):source.find(\">\")+1:],\"\")\n",
    "\n",
    "#print source \n",
    "\n",
    " \n",
    "source.strip('a')\n",
    "source.strip('and')\n",
    "source.strip('are')\n",
    "source.strip('as')\n",
    "source.strip('at')\n",
    "source.strip('be')\n",
    "source.strip('but')\n",
    "source.strip('by')\n",
    "source.strip('for')\n",
    "source.strip('if')\n",
    "source.strip('in')\n",
    "source.strip('into')\n",
    "source.strip('is')\n",
    "source.strip('it')\n",
    "source.strip('no')\n",
    "source.strip('not')\n",
    "source.strip('of')\n",
    "source.strip('on')\n",
    "source.strip('or')\n",
    "source.strip('s')\n",
    "source.strip('such')\n",
    "source.strip('t')\n",
    "source.strip('that')\n",
    "source.strip('the')\n",
    "source.strip('their')\n",
    "source.strip('then')\n",
    "source.strip('there')\n",
    "source.strip('these')\n",
    "source.strip('they')\n",
    "source.strip('this')\n",
    "source.strip('to')\n",
    "source.strip('was')\n",
    "source.strip('will')\n",
    "source.strip('with')\n",
    "\n",
    "# out = source.translate(string.maketrans(\"\",\"\"), string.punctuation)\n",
    "\n",
    "\n",
    "out = source.translate(string.maketrans(\"\",\"\"), string.punctuation)\n",
    "\n",
    "print type(out)\n",
    "\n",
    "f = open('egloos.com.txt', 'w')\n",
    "f.write(out)\n",
    "f.close()\n",
    "\n",
    "\n",
    " "
   ]
  },
  {
   "cell_type": "markdown",
   "metadata": {
    "collapsed": true
   },
   "source": [
    "2) 각 URL로 지정된 웹페이지의 HTML 소스를 파일로 저장하시오."
   ]
  },
  {
   "cell_type": "markdown",
   "metadata": {},
   "source": [
    "3) 단어의 출현빈도가 담긴 사전 객체를 위 HTML 소스 파일과 동일한 폴더에 파일로 저장하시오."
   ]
  },
  {
   "cell_type": "markdown",
   "metadata": {},
   "source": [
    "4) 최소 5개 이상의 영어 웹 사이트에 대한 HTML 소스 파일과 단어 출현 빈도 파일을 저장하시오.\n",
    "    - 즉, 총 10개의 파일을 동일한 폴더에 생성하시오.\n",
    "    - [주의] 영어 웹 사이트 URL로만 5개 이상"
   ]
  },
  {
   "cell_type": "code",
   "execution_count": 18,
   "metadata": {
    "collapsed": false
   },
   "outputs": [],
   "source": [
    "import urllib2\n",
    "\n",
    "import string\n",
    "\n",
    " \n",
    "\n",
    "source = urllib2.urlopen('http://www.penpalworld.com/').read()\n",
    "\n",
    "#print source\n",
    "\n",
    "source.lower().replace(',','').replace('.','')\n",
    "\n",
    "word_count = {}\n",
    "\n",
    "for word in source.lower().replace(',','').replace('.','').split():\n",
    "    if word in word_count:\n",
    "        word_count[word]+=1\n",
    "    else:\n",
    "        word_count[word]=1\n",
    "\n",
    "#print word_count\n",
    "\n",
    "f = open('penpalworld.com.html.txt', 'w')\n",
    "f.write(source)\n",
    "f.close()\n",
    "\n",
    "\n"
   ]
  },
  {
   "cell_type": "code",
   "execution_count": null,
   "metadata": {
    "collapsed": true
   },
   "outputs": [],
   "source": [
    "import urllib2\n",
    "\n",
    "import string\n",
    "\n",
    " \n",
    "\n",
    "source = urllib2.urlopen('http://www.penpalworld.com/').read()\n",
    "\n",
    "#print source\n",
    "\n",
    "source.lower().replace(',','').replace('.','')\n",
    "\n",
    "word_count = {}\n",
    "\n",
    "for word in source.lower().replace(',','').replace('.','').split():\n",
    "    if word in word_count:\n",
    "        word_count[word]+=1\n",
    "    else:\n",
    "        word_count[word]=1\n",
    "\n",
    "f = open('egloos.com.frequency.txt', 'w')\n",
    "f.write(word_count)\n",
    "f.close()\n"
   ]
  },
  {
   "cell_type": "code",
   "execution_count": 21,
   "metadata": {
    "collapsed": false
   },
   "outputs": [],
   "source": [
    "import urllib2\n",
    "\n",
    "import string\n",
    "\n",
    " \n",
    "\n",
    "source = urllib2.urlopen(\"http://www.google.com/ncr\").read()\n",
    "\n",
    "#print source\n",
    "\n",
    "source.lower().replace(',','').replace('.','')\n",
    "\n",
    "word_count = {}\n",
    "\n",
    "for word in source.lower().replace(',','').replace('.','').split():\n",
    "    if word in word_count:\n",
    "        word_count[word]+=1\n",
    "    else:\n",
    "        word_count[word]=1\n",
    "\n",
    "#print word_count\n",
    "\n",
    "f = open('google.com.html.txt', 'w')\n",
    "f.write(source)\n",
    "f.close()\n"
   ]
  },
  {
   "cell_type": "code",
   "execution_count": null,
   "metadata": {
    "collapsed": true
   },
   "outputs": [],
   "source": [
    "import urllib2\n",
    "\n",
    "import string\n",
    "\n",
    " \n",
    "\n",
    "source = urllib2.urlopen(\"http://www.google.com/ncr\").read()\n",
    "\n",
    "#print source\n",
    "\n",
    "source.lower().replace(',','').replace('.','')\n",
    "\n",
    "word_count = {}\n",
    "\n",
    "for word in source.lower().replace(',','').replace('.','').split():\n",
    "    if word in word_count:\n",
    "        word_count[word]+=1\n",
    "    else:\n",
    "        word_count[word]=1\n",
    "\n",
    "#print word_count\n",
    "\n",
    "f = open('google.com.frequency.txt', 'w')\n",
    "f.write(word_count)\n",
    "f.close()\n"
   ]
  },
  {
   "cell_type": "code",
   "execution_count": 24,
   "metadata": {
    "collapsed": false
   },
   "outputs": [],
   "source": [
    "import urllib2\n",
    "\n",
    "import string\n",
    "\n",
    " \n",
    "\n",
    "source = urllib2.urlopen(\"http://www.sanrio.com/\").read()\n",
    "\n",
    "#print source\n",
    "\n",
    "source.lower().replace(',','').replace('.','')\n",
    "\n",
    "word_count = {}\n",
    "\n",
    "for word in source.lower().replace(',','').replace('.','').split():\n",
    "    if word in word_count:\n",
    "        word_count[word]+=1\n",
    "    else:\n",
    "        word_count[word]=1\n",
    "\n",
    "#print word_count\n",
    "\n",
    "f = open('sanrio.com.html.txt', 'w')\n",
    "f.write(source)\n",
    "f.close()\n"
   ]
  },
  {
   "cell_type": "code",
   "execution_count": null,
   "metadata": {
    "collapsed": true
   },
   "outputs": [],
   "source": [
    "import urllib2\n",
    "\n",
    "import string\n",
    "\n",
    " \n",
    "\n",
    "source = urllib2.urlopen(\"http://www.sanrio.com/\").read()\n",
    "\n",
    "#print source\n",
    "\n",
    "source.lower().replace(',','').replace('.','')\n",
    "\n",
    "word_count = {}\n",
    "\n",
    "for word in source.lower().replace(',','').replace('.','').split():\n",
    "    if word in word_count:\n",
    "        word_count[word]+=1\n",
    "    else:\n",
    "        word_count[word]=1\n",
    "\n",
    "#print word_count\n",
    "\n",
    "f = open('sanrio.com.frequency.txt', 'w')\n",
    "f.write(word_count)\n",
    "f.close()\n"
   ]
  },
  {
   "cell_type": "code",
   "execution_count": 23,
   "metadata": {
    "collapsed": false
   },
   "outputs": [],
   "source": [
    "import urllib2\n",
    "\n",
    "import string\n",
    "\n",
    " \n",
    "\n",
    "source = urllib2.urlopen(\"http://www.weebls-stuff.com/toons/\").read()\n",
    "\n",
    "#print source\n",
    "\n",
    "source.lower().replace(',','').replace('.','')\n",
    "\n",
    "word_count = {}\n",
    "\n",
    "for word in source.lower().replace(',','').replace('.','').split():\n",
    "    if word in word_count:\n",
    "        word_count[word]+=1\n",
    "    else:\n",
    "        word_count[word]=1\n",
    "\n",
    "#print word_count\n",
    "\n",
    "f = open('weebls-stuff.com.html.txt', 'w')\n",
    "f.write(source)\n",
    "f.close()\n"
   ]
  },
  {
   "cell_type": "code",
   "execution_count": null,
   "metadata": {
    "collapsed": true
   },
   "outputs": [],
   "source": [
    "import urllib2\n",
    "\n",
    "import string\n",
    "\n",
    " \n",
    "\n",
    "source = urllib2.urlopen(\"http://www.weebls-stuff.com/toons/\").read()\n",
    "\n",
    "#print source\n",
    "\n",
    "source.lower().replace(',','').replace('.','')\n",
    "\n",
    "word_count = {}\n",
    "\n",
    "for word in source.lower().replace(',','').replace('.','').split():\n",
    "    if word in word_count:\n",
    "        word_count[word]+=1\n",
    "    else:\n",
    "        word_count[word]=1\n",
    "\n",
    "\n",
    "\n",
    "f = open('weebls-stuff.com.frequency.txt', 'w')\n",
    "f.write(word_count)\n",
    "f.close()"
   ]
  },
  {
   "cell_type": "code",
   "execution_count": 22,
   "metadata": {
    "collapsed": false
   },
   "outputs": [],
   "source": [
    "import urllib2\n",
    "\n",
    "import string\n",
    "\n",
    " \n",
    "\n",
    "source = urllib2.urlopen(\"http://www.lordoftherings.net/\").read()\n",
    "\n",
    "#print source\n",
    "\n",
    "source.lower().replace(',','').replace('.','')\n",
    "\n",
    "word_count = {}\n",
    "\n",
    "for word in source.lower().replace(',','').replace('.','').split():\n",
    "    if word in word_count:\n",
    "        word_count[word]+=1\n",
    "    else:\n",
    "        word_count[word]=1\n",
    "\n",
    "#print word_count\n",
    "\n",
    "f = open('lordoftherings.net.html.txt', 'w')\n",
    "f.write(source)\n",
    "f.close()\n"
   ]
  },
  {
   "cell_type": "code",
   "execution_count": null,
   "metadata": {
    "collapsed": true
   },
   "outputs": [],
   "source": [
    "import urllib2\n",
    "\n",
    "import string\n",
    "\n",
    " \n",
    "\n",
    "source = urllib2.urlopen(\"http://www.lordoftherings.net/\").read()\n",
    "\n",
    "#print source\n",
    "\n",
    "source.lower().replace(',','').replace('.','')\n",
    "\n",
    "word_count = {}\n",
    "\n",
    "for word in source.lower().replace(',','').replace('.','').split():\n",
    "    if word in word_count:\n",
    "        word_count[word]+=1\n",
    "    else:\n",
    "        word_count[word]=1\n",
    "\n",
    "#print word_count\n",
    "\n",
    "f = open('lordoftherings.net.frequency.txt', 'w')\n",
    "f.write(count)\n",
    "f.close()\n"
   ]
  },
  {
   "cell_type": "markdown",
   "metadata": {},
   "source": [
    "    5) 위 문제에서 저장한 모든 words.frequency 파일들을 객체로 다시 로드하여 본인이 저장하여 분석한 사이트들에서 가장 많이 출현한 단어 3개를 뽑아 제시하시오.\n",
    "    - 반드시 pickle 모듈로 저장한 5개 이상의 words.frequency를 다시 5개 이상의 사전 객체로 로드 하는 코드가 추가되어야 함"
   ]
  },
  {
   "cell_type": "code",
   "execution_count": null,
   "metadata": {
    "collapsed": true
   },
   "outputs": [],
   "source": [
    "import pickle\n",
    "\n",
    "f = open('egloos.com.frequency.txt')\n",
    "f = open('google.com.frequency.txt')\n",
    "f = open('sanrio.com.frequency.txt')\n",
    "f = open('lordoftherings.net.frequency.txt')\n",
    "f = open('weebls-stuff.com.frequency.txt')\n",
    "\n",
    "x, y = pickle.load(f)\n",
    "print x\n",
    "print y     \n"
   ]
  },
  {
   "cell_type": "markdown",
   "metadata": {},
   "source": [
    "숙제 이후의 소감: 이번 과제는 풀지 못한곳이 다른 과제보다 많아 아쉬웠다."
   ]
  },
  {
   "cell_type": "code",
   "execution_count": null,
   "metadata": {
    "collapsed": true
   },
   "outputs": [],
   "source": []
  }
 ],
 "metadata": {
  "kernelspec": {
   "display_name": "Python 2",
   "language": "python",
   "name": "python2"
  },
  "language_info": {
   "codemirror_mode": {
    "name": "ipython",
    "version": 2
   },
   "file_extension": ".py",
   "mimetype": "text/x-python",
   "name": "python",
   "nbconvert_exporter": "python",
   "pygments_lexer": "ipython2",
   "version": "2.7.9"
  }
 },
 "nbformat": 4,
 "nbformat_minor": 0
}
